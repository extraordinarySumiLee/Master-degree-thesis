import numpy as np
import matplotlib.pyplot as plt

class Truncm1:
    def __init__(self, m_min, m_max, bins, alpha):
        self.m_min = m_min
        self.m_max = m_max
        self.bins = bins
        self.alpha = alpha
        self.m1, self.m1_pdf = self._pdf()

    def _pdf(self):
        m1 = np.linspace(0, 110, self.bins)  # 0에서 110까지의 값으로 m1 생성
        norm_fact = (1 - self.alpha) / (self.m_max**(1 - self.alpha) - self.m_min**(1 - self.alpha))
        m1_pdf = np.where((m1 > self.m_min) & (m1 < self.m_max), norm_fact * m1**(-self.alpha), 0)
        m1_pdf /= np.sum(m1_pdf * (m1[1] - m1[0]))  # 정규화
        return m1, m1_pdf

    def _plot_results(self,color):
        # 일반적인 PDF 플로팅
        plt.plot(self.m1[(self.m1 > self.m_min) & (self.m1 < self.m_max)],
                 self.m1_pdf[(self.m1 > self.m_min) & (self.m1 < self.m_max)],
                 label=rf"$\alpha$={self.alpha}",
                 color=color,linestyle='-')

        # m_min, m_max 근처 점선 구간
        m_min_idx = np.searchsorted(self.m1, self.m_min)  # m_min 근처 인덱스 찾기
        m_max_idx = np.searchsorted(self.m1, self.m_max)  # m_max 근처 인덱스 찾기

        # m_min 근처 점선
        plt.plot(self.m1[m_min_idx-1:m_min_idx+2], self.m1_pdf[m_min_idx-1:m_min_idx+2],
                 color=color, linestyle='--', alpha=0.7, linewidth=1)
        
        # m_max 근처 점선
        plt.plot(self.m1[m_max_idx-1:m_max_idx+2], self.m1_pdf[m_max_idx-1:m_max_idx+2],
                 color=color, linestyle='--', alpha=0.5, linewidth=1)

        # m_min, m_max보다 작은 부분과 큰 부분에 대한 선 그리기
        plt.plot(self.m1[self.m1 < self.m_min],
                 self.m1_pdf[self.m1 < self.m_min],
                 color=color, linestyle='-', alpha=1)

        plt.plot(self.m1[self.m1 > self.m_max],
                 self.m1_pdf[self.m1 > self.m_max],
                 color=color, linestyle='-', alpha=1)

        # 그래프 설정
        plt.xlabel(r"$m_1 [M_\odot]$", fontsize=20)
        plt.ylabel("PDF", fontsize=20)
        plt.legend()

model1=Truncm1(m_min=2,m_max=100,alpha=-4,bins=400)
model2=Truncm1(m_min=2,m_max=100,alpha=0,bins=400)
model3=Truncm1(m_min=2,m_max=100,alpha=4,bins=400)

plt.figure(figsize=(12,8))
model1._plot_results(color='blue')
model2._plot_results(color='orange')
model3._plot_results(color='green')
plt.xlim(0,105)
plt.yscale('log')
plt.legend(loc='center left',bbox_to_anchor=(1,0.5),fontsize=20)
plt.xticks([0,2,20,40,60,80,100],fontsize=12)
plt.yticks(fontsize=12)
